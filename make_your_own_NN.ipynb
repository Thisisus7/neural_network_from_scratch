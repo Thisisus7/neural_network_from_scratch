{
 "cells": [
  {
   "cell_type": "code",
   "execution_count": 104,
   "id": "38d755bc",
   "metadata": {},
   "outputs": [],
   "source": [
    "import numpy as np\n",
    "import matplotlib.pyplot as plt\n",
    "%matplotlib inline  \n",
    "# plot graphics in the notebook, not in a separate external window."
   ]
  },
  {
   "cell_type": "code",
   "execution_count": 105,
   "id": "607a8d90",
   "metadata": {},
   "outputs": [
    {
     "data": {
      "text/plain": [
       "array([[0., 0.],\n",
       "       [0., 0.],\n",
       "       [0., 0.]])"
      ]
     },
     "execution_count": 105,
     "metadata": {},
     "output_type": "execute_result"
    }
   ],
   "source": [
    "a = np.zeros([3,2])\n",
    "a"
   ]
  },
  {
   "cell_type": "code",
   "execution_count": 106,
   "id": "c49979b9",
   "metadata": {},
   "outputs": [
    {
     "data": {
      "text/plain": [
       "array([[ 1.,  2.],\n",
       "       [ 9.,  0.],\n",
       "       [ 0., 12.]])"
      ]
     },
     "execution_count": 106,
     "metadata": {},
     "output_type": "execute_result"
    }
   ],
   "source": [
    "a[0,0] = 1\n",
    "a[0,1] = 2\n",
    "a[1,0] = 9\n",
    "a[2,1] = 12\n",
    "a"
   ]
  },
  {
   "cell_type": "code",
   "execution_count": 107,
   "id": "1ad15f67",
   "metadata": {},
   "outputs": [
    {
     "data": {
      "text/plain": [
       "12.0"
      ]
     },
     "execution_count": 107,
     "metadata": {},
     "output_type": "execute_result"
    }
   ],
   "source": [
    "a[2,1]"
   ]
  },
  {
   "cell_type": "code",
   "execution_count": 108,
   "id": "da7734ef",
   "metadata": {},
   "outputs": [
    {
     "data": {
      "text/plain": [
       "<matplotlib.image.AxesImage at 0x2465a6eb400>"
      ]
     },
     "execution_count": 108,
     "metadata": {},
     "output_type": "execute_result"
    },
    {
     "data": {
      "image/png": "[encoded data removed]",
      "text/plain": [
       "<Figure size 432x288 with 1 Axes>"
      ]
     },
     "metadata": {
      "needs_background": "light"
     },
     "output_type": "display_data"
    }
   ],
   "source": [
    "plt.imshow(a, interpolation='nearest')"
   ]
  },
  {
   "cell_type": "markdown",
   "id": "443542a7",
   "metadata": {},
   "source": [
    "## objects"
   ]
  },
  {
   "cell_type": "code",
   "execution_count": 109,
   "id": "34f30506",
   "metadata": {},
   "outputs": [
    {
     "name": "stdout",
     "output_type": "stream",
     "text": [
      "woof!\n",
      "woof!\n",
      "dog name is Mutley\n",
      "dog tempature is 37\n",
      "dog name is mut\n",
      "dog tempature is 45\n"
     ]
    }
   ],
   "source": [
    "# class for a dog object\n",
    "class dog:\n",
    "    \n",
    "    # initiation method with internal data\n",
    "    def __init__(self, petname, temp):\n",
    "        self.name = petname\n",
    "        self.tempature = temp\n",
    "    \n",
    "    # get status\n",
    "    def status(self):\n",
    "        print(\"dog name is\", self.name)\n",
    "        print(\"dog tempature is\", self.tempature)\n",
    "        \n",
    "    # set tempature\n",
    "    def setTempature(self, temp): # you can change the object's tempature at any time after you created the object.\n",
    "        self.tempature = temp;\n",
    "        pass\n",
    "        \n",
    "    # dog can bark()\n",
    "    def bark(self):\n",
    "        print('woof!')\n",
    "        pass\n",
    "    pass\n",
    "\n",
    "# create 2 objects\n",
    "sizzles = dog('Sizzles', 39)\n",
    "mutley = dog('Mutley', 37)\n",
    "sizzles.bark() # method\n",
    "mutley.bark()\n",
    "mutley.status()\n",
    "mutley.__init__('mut',40)\n",
    "mutley.setTempature(45)\n",
    "mutley.status()"
   ]
  },
  {
   "cell_type": "markdown",
   "id": "27977426",
   "metadata": {},
   "source": [
    "# NN"
   ]
  },
  {
   "cell_type": "code",
   "execution_count": 119,
   "id": "7db5abf6",
   "metadata": {},
   "outputs": [],
   "source": [
    "import scipy.special\n",
    "import scipy.misc\n",
    "# helper to load data from PNG image files\n",
    "import imageio\n",
    "# glob helps select multiple files using patterns\n",
    "import glob"
   ]
  },
  {
   "cell_type": "code",
   "execution_count": 128,
   "id": "f4a717ed",
   "metadata": {},
   "outputs": [],
   "source": [
    "# neural network class definition\n",
    "class neuralNetwork:\n",
    "    \n",
    "    # initialise the neural network\n",
    "    def __init__(self, inputnodes, hiddennodes, outputnodes, learningrate):\n",
    "        # set the number of nodes in each input, hidden, output layer\n",
    "        self.inodes = inputnodes\n",
    "        self.hnodes = hiddennodes\n",
    "        self.onodes = outputnodes\n",
    "        \n",
    "        # link weight matrices, wih and who\n",
    "        # mean; standard deviation; shape\n",
    "        self.wih = np.random.normal(0.0, pow(self.hnodes, -0.5), (self.hnodes, self.inodes))\n",
    "        self.who = np.random.normal(0.0, pow(self.onodes, -0.5), (self.onodes, self.hnodes))\n",
    "        \n",
    "        # learning rate\n",
    "        self.lr = learningrate\n",
    "        \n",
    "        # activation function is the sigmoid function\n",
    "        # lambda: define a function, name is before '='\n",
    "        self.activation_function = lambda x: scipy.special.expit(x)\n",
    "    \n",
    "    # train the neural network\n",
    "    def train(self, inputs_list, targets_list):\n",
    "        # convert inputs list to 2d array\n",
    "        inputs = np.array(inputs_list, ndmin=2).T\n",
    "        targets = np.array(targets_list, ndmin=2).T\n",
    "        \n",
    "        # calculate signals into hidden layer\n",
    "        hidden_inputs = np.dot(self.wih, inputs)\n",
    "        # calculate signals emerging fron hidden layer\n",
    "        hidden_outputs = self.activation_function(hidden_inputs)\n",
    "        \n",
    "        # calculate signals into final output layer\n",
    "        final_inputs = np.dot(self.who, hidden_outputs)\n",
    "        # calculate signals emerging fron hidden layer\n",
    "        final_outputs = self.activation_function(final_inputs) \n",
    "        \n",
    "        # output layer error is the (target - actual)\n",
    "        output_errors = targets - final_outputs\n",
    "        # hidden layer error is the output_errors, split by weights, recombined at hidden nodes\n",
    "        hidden_errors = np.dot(self.who.T, output_errors)\n",
    "        \n",
    "        # update the weights for the links between the hidden and output layers\n",
    "        self.who += self.lr * np.dot((output_errors * final_outputs * (1.0 - final_outputs)), np.transpose(hidden_outputs))\n",
    "        # update the weights for the links between the input and hidden layers\n",
    "        self.wih += self.lr * np.dot((hidden_errors * hidden_outputs * (1.0 - hidden_outputs)), np.transpose(inputs))\n",
    "      \n",
    "    # query the neural network\n",
    "    def query(self, inputs_list):\n",
    "        # convert inputs list to 2d array\n",
    "        inputs = np.array(inputs_list, ndmin=2).T\n",
    "        \n",
    "        # calculate signals into hidden layer\n",
    "        hidden_inputs = np.dot(self.wih, inputs)\n",
    "        # calculate signals emerging fron hidden layer\n",
    "        hidden_outputs = self.activation_function(hidden_inputs)\n",
    "        \n",
    "        # calculate signals into final output layer\n",
    "        final_inputs = np.dot(self.who, hidden_outputs)\n",
    "        # calculate signals emerging fron hidden layer\n",
    "        final_outputs = self.activation_function(final_inputs)\n",
    "        \n",
    "        return final_outputs\n",
    "    \n",
    "    # backquery the neural network\n",
    "    # we'll use the same termnimology to each item, \n",
    "    # eg target are the values at the right of the network, albeit used as input\n",
    "    # eg hidden_output is the signal to the right of the middle nodes\n",
    "    def backquery(self, targets_list):\n",
    "        # transpose the targets list to a vertical array\n",
    "        final_outputs = numpy.array(targets_list, ndmin=2).T\n",
    "        \n",
    "        # calculate the signal into the final output layer\n",
    "        final_inputs = self.inverse_activation_function(final_outputs)\n",
    "\n",
    "        # calculate the signal out of the hidden layer\n",
    "        hidden_outputs = numpy.dot(self.who.T, final_inputs)\n",
    "        # scale them back to 0.01 to .99\n",
    "        hidden_outputs -= numpy.min(hidden_outputs)\n",
    "        hidden_outputs /= numpy.max(hidden_outputs)\n",
    "        hidden_outputs *= 0.98\n",
    "        hidden_outputs += 0.01\n",
    "        \n",
    "        # calculate the signal into the hidden layer\n",
    "        hidden_inputs = self.inverse_activation_function(hidden_outputs)\n",
    "        \n",
    "        # calculate the signal out of the input layer\n",
    "        inputs = numpy.dot(self.wih.T, hidden_inputs)\n",
    "        # scale them back to 0.01 to .99\n",
    "        inputs -= numpy.min(inputs)\n",
    "        inputs /= numpy.max(inputs)\n",
    "        inputs *= 0.98\n",
    "        inputs += 0.01\n",
    "        \n",
    "        return inputs"
   ]
  },
  {
   "cell_type": "code",
   "execution_count": 118,
   "id": "8047aa50",
   "metadata": {},
   "outputs": [
    {
     "name": "stdout",
     "output_type": "stream",
     "text": [
      "performance =  0.9712\n"
     ]
    }
   ],
   "source": [
    "# number of input, hidden and output nodes\n",
    "input_nodes = 784  # 28*28 pixels\n",
    "hidden_nodes = 250  # less than 784, but not too small(there is no perfect method for choosing hidden nodes and layer)\n",
    "output_nodes = 10  # 10 labels\n",
    "\n",
    "# learning rate\n",
    "learning_rate = 0.1\n",
    "\n",
    "# create instance of neural network\n",
    "n = neuralNetwork(input_nodes, hidden_nodes, output_nodes, learning_rate)\n",
    "\n",
    "# loading the mnist training data CSV file into a list\n",
    "training_data_file = open(\"E:\\download\\MNIST\\mnist_train.csv\", 'r') # r:read only\n",
    "training_data_list = training_data_file.readlines() # for big file, don't usereadlines()(reads the entire file into memory)\n",
    "training_data_file.close() # good habit\n",
    "\n",
    "# train the neural network\n",
    "\n",
    "# epochs is the number of times the training data set is used for training\n",
    "epoch = 5\n",
    "\n",
    "for e in range(epoch):\n",
    "    # go through all records in the training data set\n",
    "    for record in training_data_list:\n",
    "        # split the record by the ',' commas\n",
    "        all_values = record.split(',')\n",
    "        # scale and shift the inputs to range 0.01 to 1.00\n",
    "        inputs = (np.asfarray(all_values[1:]) / 255 * 0.99) + 0.01\n",
    "        # create the target output values (all 0.01, except the desired label which is 0.99)\n",
    "        targets = np.zeros(output_nodes) + 0.01\n",
    "        # all values[0] is the target label for this record\n",
    "        targets[int(all_values[0])] = 0.99\n",
    "        n.train(inputs, targets)\n",
    "    \n",
    "# load the mnist test data CSV file into a list\n",
    "test_data_file = open(\"E:\\download\\MNIST\\mnist_test.csv\", 'r')\n",
    "test_data_list = test_data_file.readlines()\n",
    "test_data_file.close()\n",
    "\n",
    "# test the neural network\n",
    "\n",
    "# scorecard for how well the network performs, initially empty\n",
    "scorecard = []\n",
    "\n",
    "# go through all the records in the test data set\n",
    "for record in test_data_list:\n",
    "    # split the record by the ',' commas\n",
    "    all_values = record.split(',')\n",
    "    # correct answer is the first value\n",
    "    correct_label = int(all_values[0])\n",
    "    # print(correct_label, \"correct label\")\n",
    "    # scale and shift the inputs to range 0.01 to 1.00\n",
    "    inputs = (np.asfarray(all_values[1:]) / 255 * 0.99) + 0.01\n",
    "    # query the network\n",
    "    outputs = n.query(inputs)\n",
    "    # the index of the highest value corresponds to the label \n",
    "    label = np.argmax(outputs)\n",
    "    # print(label, \"network's answer\")\n",
    "    # append correct or incorrect to list\n",
    "    if label == correct_label:\n",
    "        # network's annswer matches correct answer, add 1 to scorecard\n",
    "        scorecard.append(1)\n",
    "    else:\n",
    "        # network's answer doesn't match correct answer, add 0 to scorecard\n",
    "        scorecard.append(0)\n",
    "        \n",
    "# print(scorecard)\n",
    "# calculate the performance score, the fraction of correct answers \n",
    "scorecard_array = np.asarray(scorecard)\n",
    "print(\"performance = \", scorecard_array.sum() / scorecard_array.size)"
   ]
  },
  {
   "cell_type": "code",
   "execution_count": 113,
   "id": "1ce57732",
   "metadata": {},
   "outputs": [
    {
     "data": {
      "text/plain": [
       "<matplotlib.image.AxesImage at 0x2465b7104f0>"
      ]
     },
     "execution_count": 113,
     "metadata": {},
     "output_type": "execute_result"
    },
    {
     "data": {
      "image/png": "[encoded data removed]",
      "text/plain": [
       "<Figure size 432x288 with 1 Axes>"
      ]
     },
     "metadata": {
      "needs_background": "light"
     },
     "output_type": "display_data"
    }
   ],
   "source": [
    "# plot\n",
    "all_values = data_list[0].split(',') # delete the comma\n",
    "# [1:] take all except the 1st element of this list\n",
    "# .asfarray: convert text strings into real numbers\n",
    "# reshape: convert 784 to 28*28\n",
    "image_array = np.asfarray(all_values[1:]).reshape((28,28)) \n",
    "plt.imshow(image_array, cmap='Greys', interpolation='None')"
   ]
  },
  {
   "cell_type": "code",
   "execution_count": 114,
   "id": "daa96ec4",
   "metadata": {},
   "outputs": [
    {
     "name": "stdout",
     "output_type": "stream",
     "text": [
      "7\n"
     ]
    },
    {
     "data": {
      "text/plain": [
       "<matplotlib.image.AxesImage at 0x2465b775130>"
      ]
     },
     "execution_count": 114,
     "metadata": {},
     "output_type": "execute_result"
    },
    {
     "data": {
      "image/png": "[encoded data removed]",
      "text/plain": [
       "<Figure size 432x288 with 1 Axes>"
      ]
     },
     "metadata": {
      "needs_background": "light"
     },
     "output_type": "display_data"
    }
   ],
   "source": [
    "# get the first test record\n",
    "all_values = test_data_list[0].split(',')\n",
    "# print the label\n",
    "print(all_values[0])\n",
    "\n",
    "image_array = np.asfarray(all_values[1:]).reshape((28,28))\n",
    "plt.imshow(image_array, cmap='Greys', interpolation='None')"
   ]
  },
  {
   "cell_type": "code",
   "execution_count": 115,
   "id": "52f42260",
   "metadata": {},
   "outputs": [
    {
     "data": {
      "text/plain": [
       "array([[0.0204121 ],\n",
       "       [0.00433313],\n",
       "       [0.00243854],\n",
       "       [0.0052142 ],\n",
       "       [0.0023806 ],\n",
       "       [0.00994541],\n",
       "       [0.0157581 ],\n",
       "       [0.9871998 ],\n",
       "       [0.00454907],\n",
       "       [0.02647128]])"
      ]
     },
     "execution_count": 115,
     "metadata": {},
     "output_type": "execute_result"
    }
   ],
   "source": [
    "n.query((np.asfarray(all_values[1:]) / 255.0 * 0.99) + 0.01)"
   ]
  },
  {
   "cell_type": "markdown",
   "id": "a2ad9739",
   "metadata": {},
   "source": [
    "## use your own images"
   ]
  },
  {
   "cell_type": "code",
   "execution_count": 121,
   "id": "cb097a77",
   "metadata": {},
   "outputs": [
    {
     "ename": "AttributeError",
     "evalue": "module 'scipy.misc' has no attribute 'imread'",
     "output_type": "error",
     "traceback": [
      "\u001b[1;31m---------------------------------------------------------------------------\u001b[0m",
      "\u001b[1;31mAttributeError\u001b[0m                            Traceback (most recent call last)",
      "Input \u001b[1;32mIn [121]\u001b[0m, in \u001b[0;36m<cell line: 4>\u001b[1;34m()\u001b[0m\n\u001b[0;32m      1\u001b[0m \u001b[38;5;66;03m# image_file_name\u001b[39;00m\n\u001b[0;32m      2\u001b[0m \u001b[38;5;66;03m# get data from PNG or JPG\u001b[39;00m\n\u001b[0;32m      3\u001b[0m \u001b[38;5;66;03m# flatten:turns the image into simple array of float numbers; also flatten color values into grey scale\u001b[39;00m\n\u001b[1;32m----> 4\u001b[0m img_array \u001b[38;5;241m=\u001b[39m \u001b[43mscipy\u001b[49m\u001b[38;5;241;43m.\u001b[39;49m\u001b[43mmisc\u001b[49m\u001b[38;5;241;43m.\u001b[39;49m\u001b[43mimread\u001b[49m(image_file_name, flatten\u001b[38;5;241m=\u001b[39m\u001b[38;5;28;01mTrue\u001b[39;00m)  \n\u001b[0;32m      6\u001b[0m \u001b[38;5;66;03m# reshape the array from 28*28 square into a longlist of values\u001b[39;00m\n\u001b[0;32m      7\u001b[0m \u001b[38;5;66;03m# 255- : image(0:black, 255:white); MNIST(0:white, 255:black)\u001b[39;00m\n\u001b[0;32m      8\u001b[0m img_data \u001b[38;5;241m=\u001b[39m \u001b[38;5;241m255.0\u001b[39m \u001b[38;5;241m-\u001b[39m img_array\u001b[38;5;241m.\u001b[39mreshape(\u001b[38;5;241m784\u001b[39m)\n",
      "\u001b[1;31mAttributeError\u001b[0m: module 'scipy.misc' has no attribute 'imread'"
     ]
    }
   ],
   "source": [
    "# image_file_name\n",
    "# get data from PNG or JPG\n",
    "# flatten:turns the image into simple array of float numbers; also flatten color values into grey scale\n",
    "img_array = scipy.misc.imread(image_file_name, flatten=True)  \n",
    "\n",
    "# reshape the array from 28*28 square into a longlist of values\n",
    "# 255- : image(0:black, 255:white); MNIST(0:white, 255:black)\n",
    "img_data = 255.0 - img_array.reshape(784)\n",
    "# range from 0.01 to 1.00\n",
    "img_data = (img_data / 255.0 / 0.99) + 0.01"
   ]
  },
  {
   "cell_type": "code",
   "execution_count": 122,
   "id": "a387ab8d",
   "metadata": {},
   "outputs": [
    {
     "ename": "NameError",
     "evalue": "name 'glob' is not defined",
     "output_type": "error",
     "traceback": [
      "\u001b[1;31m---------------------------------------------------------------------------\u001b[0m",
      "\u001b[1;31mNameError\u001b[0m                                 Traceback (most recent call last)",
      "Input \u001b[1;32mIn [122]\u001b[0m, in \u001b[0;36m<cell line: 5>\u001b[1;34m()\u001b[0m\n\u001b[0;32m      2\u001b[0m our_own_dataset \u001b[38;5;241m=\u001b[39m []\n\u001b[0;32m      4\u001b[0m \u001b[38;5;66;03m# load the png image data as test data set\u001b[39;00m\n\u001b[1;32m----> 5\u001b[0m \u001b[38;5;28;01mfor\u001b[39;00m image_file_name \u001b[38;5;129;01min\u001b[39;00m \u001b[43mglob\u001b[49m\u001b[38;5;241m.\u001b[39mglob(\u001b[38;5;124m'\u001b[39m\u001b[38;5;124mmy_own_images/2828_my_own_?.png\u001b[39m\u001b[38;5;124m'\u001b[39m):\n\u001b[0;32m      6\u001b[0m     \n\u001b[0;32m      7\u001b[0m     \u001b[38;5;66;03m# use the filename to set the correct label\u001b[39;00m\n\u001b[0;32m      8\u001b[0m     label \u001b[38;5;241m=\u001b[39m \u001b[38;5;28mint\u001b[39m(image_file_name[\u001b[38;5;241m-\u001b[39m\u001b[38;5;241m5\u001b[39m:\u001b[38;5;241m-\u001b[39m\u001b[38;5;241m4\u001b[39m])\n\u001b[0;32m     10\u001b[0m     \u001b[38;5;66;03m# load image data from png files into an array\u001b[39;00m\n",
      "\u001b[1;31mNameError\u001b[0m: name 'glob' is not defined"
     ]
    }
   ],
   "source": [
    "# our own image test data set\n",
    "our_own_dataset = []\n",
    "\n",
    "# load the png image data as test data set\n",
    "for image_file_name in glob.glob('my_own_images/2828_my_own_?.png'):\n",
    "    \n",
    "    # use the filename to set the correct label\n",
    "    label = int(image_file_name[-5:-4])\n",
    "    \n",
    "    # load image data from png files into an array\n",
    "    print (\"loading ... \", image_file_name)\n",
    "    img_array = imageio.imread(image_file_name, as_gray=True)\n",
    "    \n",
    "    # reshape from 28x28 to list of 784 values, invert values\n",
    "    img_data  = 255.0 - img_array.reshape(784)\n",
    "    \n",
    "    # then scale data to range from 0.01 to 1.0\n",
    "    img_data = (img_data / 255.0 * 0.99) + 0.01\n",
    "    print(numpy.min(img_data))\n",
    "    print(numpy.max(img_data))\n",
    "    \n",
    "    # append label and image data  to test data set\n",
    "    record = numpy.append(label,img_data)\n",
    "    our_own_dataset.append(record)\n",
    "    \n",
    "    pass"
   ]
  },
  {
   "cell_type": "code",
   "execution_count": 123,
   "id": "debc0ec7",
   "metadata": {},
   "outputs": [
    {
     "ename": "NameError",
     "evalue": "name 'matplotlib' is not defined",
     "output_type": "error",
     "traceback": [
      "\u001b[1;31m---------------------------------------------------------------------------\u001b[0m",
      "\u001b[1;31mNameError\u001b[0m                                 Traceback (most recent call last)",
      "Input \u001b[1;32mIn [123]\u001b[0m, in \u001b[0;36m<cell line: 7>\u001b[1;34m()\u001b[0m\n\u001b[0;32m      4\u001b[0m item \u001b[38;5;241m=\u001b[39m \u001b[38;5;241m2\u001b[39m\n\u001b[0;32m      6\u001b[0m \u001b[38;5;66;03m# plot image\u001b[39;00m\n\u001b[1;32m----> 7\u001b[0m \u001b[43mmatplotlib\u001b[49m\u001b[38;5;241m.\u001b[39mpyplot\u001b[38;5;241m.\u001b[39mimshow(our_own_dataset[item][\u001b[38;5;241m1\u001b[39m:]\u001b[38;5;241m.\u001b[39mreshape(\u001b[38;5;241m28\u001b[39m,\u001b[38;5;241m28\u001b[39m), cmap\u001b[38;5;241m=\u001b[39m\u001b[38;5;124m'\u001b[39m\u001b[38;5;124mGreys\u001b[39m\u001b[38;5;124m'\u001b[39m, interpolation\u001b[38;5;241m=\u001b[39m\u001b[38;5;124m'\u001b[39m\u001b[38;5;124mNone\u001b[39m\u001b[38;5;124m'\u001b[39m)\n\u001b[0;32m      9\u001b[0m \u001b[38;5;66;03m# correct answer is first value\u001b[39;00m\n\u001b[0;32m     10\u001b[0m correct_label \u001b[38;5;241m=\u001b[39m our_own_dataset[item][\u001b[38;5;241m0\u001b[39m]\n",
      "\u001b[1;31mNameError\u001b[0m: name 'matplotlib' is not defined"
     ]
    }
   ],
   "source": [
    "# test the neural network with our own images\n",
    "\n",
    "# record to test\n",
    "item = 2\n",
    "\n",
    "# plot image\n",
    "matplotlib.pyplot.imshow(our_own_dataset[item][1:].reshape(28,28), cmap='Greys', interpolation='None')\n",
    "\n",
    "# correct answer is first value\n",
    "correct_label = our_own_dataset[item][0]\n",
    "# data is remaining values\n",
    "inputs = our_own_dataset[item][1:]\n",
    "\n",
    "# query the network\n",
    "outputs = n.query(inputs)\n",
    "print (outputs)\n",
    "\n",
    "# the index of the highest value corresponds to the label\n",
    "label = numpy.argmax(outputs)\n",
    "print(\"network says \", label)\n",
    "# append correct or incorrect to list\n",
    "if (label == correct_label):\n",
    "    print (\"match!\")\n",
    "else:\n",
    "    print (\"no match!\")\n",
    "    pass"
   ]
  },
  {
   "cell_type": "markdown",
   "id": "f471f511",
   "metadata": {},
   "source": [
    "## backquery"
   ]
  },
  {
   "cell_type": "code",
   "execution_count": 129,
   "id": "c7124209",
   "metadata": {},
   "outputs": [
    {
     "name": "stdout",
     "output_type": "stream",
     "text": [
      "[0.99 0.01 0.01 0.01 0.01 0.01 0.01 0.01 0.01 0.01]\n"
     ]
    },
    {
     "ename": "AttributeError",
     "evalue": "'neuralNetwork' object has no attribute 'backquery'",
     "output_type": "error",
     "traceback": [
      "\u001b[1;31m---------------------------------------------------------------------------\u001b[0m",
      "\u001b[1;31mAttributeError\u001b[0m                            Traceback (most recent call last)",
      "Input \u001b[1;32mIn [129]\u001b[0m, in \u001b[0;36m<cell line: 12>\u001b[1;34m()\u001b[0m\n\u001b[0;32m      9\u001b[0m \u001b[38;5;28mprint\u001b[39m(targets)\n\u001b[0;32m     11\u001b[0m \u001b[38;5;66;03m# get image data\u001b[39;00m\n\u001b[1;32m---> 12\u001b[0m image_data \u001b[38;5;241m=\u001b[39m \u001b[43mn\u001b[49m\u001b[38;5;241;43m.\u001b[39;49m\u001b[43mbackquery\u001b[49m(targets)\n\u001b[0;32m     14\u001b[0m \u001b[38;5;66;03m# plot image data\u001b[39;00m\n\u001b[0;32m     15\u001b[0m plt\u001b[38;5;241m.\u001b[39mimshow(image_data\u001b[38;5;241m.\u001b[39mreshape(\u001b[38;5;241m28\u001b[39m,\u001b[38;5;241m28\u001b[39m), cmap\u001b[38;5;241m=\u001b[39m\u001b[38;5;124m'\u001b[39m\u001b[38;5;124mGreys\u001b[39m\u001b[38;5;124m'\u001b[39m, interpolation\u001b[38;5;241m=\u001b[39m\u001b[38;5;124m'\u001b[39m\u001b[38;5;124mNone\u001b[39m\u001b[38;5;124m'\u001b[39m)\n",
      "\u001b[1;31mAttributeError\u001b[0m: 'neuralNetwork' object has no attribute 'backquery'"
     ]
    }
   ],
   "source": [
    "# run the network backwards, given a label, see what image it produces\n",
    "\n",
    "# label to test\n",
    "label = 0\n",
    "# create the output signals for this label\n",
    "targets = np.zeros(output_nodes) + 0.01\n",
    "# all_values[0] is the target label for this record\n",
    "targets[label] = 0.99\n",
    "print(targets)\n",
    "\n",
    "# get image data\n",
    "image_data = n.backquery(targets)\n",
    "\n",
    "# plot image data\n",
    "plt.imshow(image_data.reshape(28,28), cmap='Greys', interpolation='None')"
   ]
  },
  {
   "cell_type": "markdown",
   "id": "2b7c17bd",
   "metadata": {},
   "source": [
    "## rotation"
   ]
  },
  {
   "cell_type": "code",
   "execution_count": null,
   "id": "ae576f79",
   "metadata": {},
   "outputs": [],
   "source": [
    "# create rotate variations\n",
    "# rotated anticlockwise by 10 degrees\n",
    "# cval: fill 0.01 in array elements because they didn't exist in the original image\n",
    "inputs_plus10_img = scipy.ndimage.interpolation.rotate(scaled_input_reshape(28,28), 10, cval=0.01, reshape=False)\n",
    "# rotated clockwise by 10 degrees\n",
    "inputs_plus10_img = scipy.ndimage.interpolation.rotate(scaled_input_reshape(28,28), -10, cval=0.01, reshape=False)\n"
   ]
  }
 ],
 "metadata": {
  "kernelspec": {
   "display_name": "Python 3 (ipykernel)",
   "language": "python",
   "name": "python3"
  },
  "language_info": {
   "codemirror_mode": {
    "name": "ipython",
    "version": 3
   },
   "file_extension": ".py",
   "mimetype": "text/x-python",
   "name": "python",
   "nbconvert_exporter": "python",
   "pygments_lexer": "ipython3",
   "version": "3.9.12"
  }
 },
 "nbformat": 4,
 "nbformat_minor": 5
}
